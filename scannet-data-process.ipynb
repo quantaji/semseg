{
 "cells": [
  {
   "cell_type": "code",
   "execution_count": 46,
   "metadata": {},
   "outputs": [],
   "source": [
    "import os\n",
    "import shutil\n",
    "\n",
    "import cv2\n",
    "import numpy as np\n",
    "import pandas as pd\n",
    "from tqdm import tqdm, trange"
   ]
  },
  {
   "cell_type": "code",
   "execution_count": 47,
   "metadata": {},
   "outputs": [],
   "source": [
    "original_scannet_path = '/home/quanta/Datasets/ScanNet/'\n",
    "target_scannet_path = './temp_dataset/'\n",
    "target_scannet_path = os.path.abspath(target_scannet_path)\n"
   ]
  },
  {
   "cell_type": "code",
   "execution_count": 48,
   "metadata": {},
   "outputs": [],
   "source": [
    "os.makedirs(target_scannet_path, exist_ok=True)\n",
    "os.makedirs(target_scannet_path + '/train', exist_ok=True)\n",
    "os.makedirs(target_scannet_path + '/list', exist_ok=True)\n",
    "os.makedirs(target_scannet_path + '/train/color', exist_ok=True)\n",
    "os.makedirs(target_scannet_path + '/train/label', exist_ok=True)\n",
    "os.makedirs(target_scannet_path + '/val', exist_ok=True)\n",
    "os.makedirs(target_scannet_path + '/val/color', exist_ok=True)\n",
    "os.makedirs(target_scannet_path + '/val/label', exist_ok=True)"
   ]
  },
  {
   "cell_type": "code",
   "execution_count": 49,
   "metadata": {},
   "outputs": [],
   "source": [
    "# label_df = pd.read_csv(os.path.join(original_scannet_path, 'scannetv2-labels.combined.tsv'), sep='\\t')\n",
    "# label_df.reset_index()\n",
    "# rawid_to_nyu40id = {0: 0}\n",
    "# nyu40_id_to_class = {0: 'unknown'}\n",
    "\n",
    "# for _, item in label_df.iterrows():\n",
    "#     rawid_to_nyu40id[item['id']] = item['nyu40id']\n",
    "#     nyu40_id_to_class[item['nyu40id']] = item['nyu40class']"
   ]
  },
  {
   "cell_type": "code",
   "execution_count": 50,
   "metadata": {},
   "outputs": [],
   "source": [
    "# mapping = np.vectorize(rawid_to_nyu40id.get)"
   ]
  },
  {
   "cell_type": "code",
   "execution_count": 51,
   "metadata": {},
   "outputs": [],
   "source": [
    "# os.makedirs('data/scannet', exist_ok=True)\n",
    "# NYU_ID_TO_COLOR = [\n",
    "#     (0, 0, 0),\n",
    "#     (174, 199, 232),  # wall \n",
    "#     (152, 223, 138),  # floor \n",
    "#     (31, 119, 180),  # cabinet \n",
    "#     (255, 187, 120),  # bed \n",
    "#     (188, 189, 34),  # chair \n",
    "#     (140, 86, 75),  # sofa \n",
    "#     (255, 152, 150),  # table \n",
    "#     (214, 39, 40),  # door\n",
    "#     (197, 176, 213),  # window \n",
    "#     (148, 103, 189),  # bookshelf \n",
    "#     (196, 156, 148),  # picture \n",
    "#     (23, 190, 207),  # counter \n",
    "#     (178, 76, 76),\n",
    "#     (247, 182, 210),  # desk\n",
    "#     (66, 188, 102),\n",
    "#     (219, 219, 141),  # curtain \n",
    "#     (140, 57, 197),\n",
    "#     (202, 185, 52),\n",
    "#     (51, 176, 203),\n",
    "#     (200, 54, 131),\n",
    "#     (92, 193, 61),\n",
    "#     (78, 71, 183),\n",
    "#     (172, 114, 82),\n",
    "#     (255, 127, 14),  # refrigerator \n",
    "#     (91, 163, 138),\n",
    "#     (153, 98, 156),\n",
    "#     (140, 153, 101),\n",
    "#     (158, 218, 229),  # shower curtain \n",
    "#     (100, 125, 154),\n",
    "#     (178, 127, 135),\n",
    "#     (120, 185, 128),\n",
    "#     (146, 111, 194),\n",
    "#     (44, 160, 44),  # toilet \n",
    "#     (112, 128, 144),  # sink \n",
    "#     (96, 207, 209),\n",
    "#     (227, 119, 194),  # bathtub \n",
    "#     (213, 92, 176),\n",
    "#     (94, 106, 211),\n",
    "#     (82, 84, 163),  # otherfurn \n",
    "#     (100, 85, 144),\n",
    "# ]\n",
    "\n",
    "# with open('data/scannet/scannet_colors.txt', 'w') as f:\n",
    "#     for i in range(41):\n",
    "#         color = NYU_ID_TO_COLOR[i]\n",
    "#         f.write(f'{color[0]} {color[1]} {color[2]}\\n')\n",
    "\n",
    "# with open('data/scannet/scannet_names.txt', 'w') as f:\n",
    "#     for i in range(41):\n",
    "#         f.write(f'{nyu40_id_to_class[i]}\\n')"
   ]
  },
  {
   "cell_type": "code",
   "execution_count": 52,
   "metadata": {},
   "outputs": [
    {
     "name": "stderr",
     "output_type": "stream",
     "text": [
      "100%|██████████| 5578/5578 [00:03<00:00, 1611.40it/s]\n"
     ]
    }
   ],
   "source": [
    "# train\n",
    "train_scans_list = os.listdir(os.path.join(original_scannet_path, 'scans'))\n",
    "with open(target_scannet_path + '/list/training.txt', 'w') as f:\n",
    "    for scan_name in train_scans_list:\n",
    "        scan_path = os.path.join(original_scannet_path, 'scans', scan_name)\n",
    "        \n",
    "        color_path = os.path.join(scan_path, 'data/color')\n",
    "        color_img_list = os.listdir(color_path)\n",
    "        color_img_list.sort(key=lambda e: int(e[:-4]))\n",
    "\n",
    "        label_path = os.path.join(scan_path, 'label-proc')\n",
    "        label_img_list = os.listdir(label_path)\n",
    "        label_img_list.sort(key=lambda e: int(e[:-4]))\n",
    "\n",
    "        num_scans = len(label_img_list)\n",
    "\n",
    "        for i in trange(num_scans):\n",
    "\n",
    "            original_color_img = os.path.join(color_path, color_img_list[i])\n",
    "            original_label_img = os.path.join(label_path, label_img_list[i])\n",
    "\n",
    "            file_name = scan_name + '_' + 'scan{:>06d}'.format(i)\n",
    "\n",
    "            tgt_c_rel_name = os.path.join('train/color', file_name + '.' + original_color_img.split('.')[-1])\n",
    "            target_color_pth = os.path.join(target_scannet_path, tgt_c_rel_name)\n",
    "            tgt_l_rel_name = os.path.join('train/label', file_name + '.' + original_label_img.split('.')[-1])\n",
    "            target_label_pth = os.path.join(target_scannet_path, tgt_l_rel_name)\n",
    "\n",
    "            # copy the original color image\n",
    "            shutil.copy(original_color_img, target_color_pth)\n",
    "            shutil.copy(original_label_img, target_label_pth)\n",
    "            # map the semantic segmentation to nyu40\n",
    "            # label = cv2.imread(original_label_img, cv2.IMREAD_GRAYSCALE)\n",
    "            # print(label.max())\n",
    "            # label = mapping(label)\n",
    "            # cv2.imwrite(target_label_pth, label)\n",
    "            f.write(f'{tgt_c_rel_name} {tgt_l_rel_name}\\n')\n",
    "\n",
    "            # break\n",
    "            \n"
   ]
  },
  {
   "cell_type": "code",
   "execution_count": 53,
   "metadata": {},
   "outputs": [
    {
     "data": {
      "text/plain": [
       "array([ 0,  1,  2,  3,  8, 24, 39], dtype=uint8)"
      ]
     },
     "execution_count": 53,
     "metadata": {},
     "output_type": "execute_result"
    }
   ],
   "source": [
    "np.unique(label.reshape(-1))"
   ]
  },
  {
   "cell_type": "code",
   "execution_count": null,
   "metadata": {},
   "outputs": [],
   "source": []
  }
 ],
 "metadata": {
  "kernelspec": {
   "display_name": "semseg",
   "language": "python",
   "name": "python3"
  },
  "language_info": {
   "codemirror_mode": {
    "name": "ipython",
    "version": 3
   },
   "file_extension": ".py",
   "mimetype": "text/x-python",
   "name": "python",
   "nbconvert_exporter": "python",
   "pygments_lexer": "ipython3",
   "version": "3.7.16"
  },
  "orig_nbformat": 4
 },
 "nbformat": 4,
 "nbformat_minor": 2
}
